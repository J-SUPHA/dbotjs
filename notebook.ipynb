{
 "cells": [
  {
   "cell_type": "code",
   "execution_count": 4,
   "metadata": {},
   "outputs": [
    {
     "name": "stdout",
     "output_type": "stream",
     "text": [
      "Connected to database\n",
      "Database: myDiscordBotDB\n",
      "Collections: ['guilds']\n",
      "Connection closed\n"
     ]
    }
   ],
   "source": [
    "from pymongo import MongoClient\n",
    "from pymongo.errors import PyMongoError\n",
    "\n",
    "# MongoDB connection string\n",
    "uri = \"mongodb://localhost:27017\"\n",
    "db_name = \"myDiscordBotDB\"\n",
    "\n",
    "# Create a MongoClient object\n",
    "client = MongoClient(uri)\n",
    "\n",
    "def connect_to_database():\n",
    "    try:\n",
    "        # Connect to the MongoDB server\n",
    "        client.admin.command('ping')\n",
    "        print(\"Connected to database\")\n",
    "\n",
    "        # Access the database\n",
    "        db = client[db_name]\n",
    "        print(f\"Database: {db.name}\")\n",
    "\n",
    "        # Example operation: List collections\n",
    "        collections = db.list_collection_names()\n",
    "        print(\"Collections:\", collections)\n",
    "    except PyMongoError as e:\n",
    "        print(\"Database connection error:\", e)\n",
    "    finally:\n",
    "        client.close()\n",
    "        print(\"Connection closed\")\n",
    "\n",
    "# Run the connection function\n",
    "connect_to_database()\n"
   ]
  },
  {
   "cell_type": "code",
   "execution_count": null,
   "metadata": {},
   "outputs": [],
   "source": []
  }
 ],
 "metadata": {
  "kernelspec": {
   "display_name": "venv",
   "language": "python",
   "name": "python3"
  },
  "language_info": {
   "codemirror_mode": {
    "name": "ipython",
    "version": 3
   },
   "file_extension": ".py",
   "mimetype": "text/x-python",
   "name": "python",
   "nbconvert_exporter": "python",
   "pygments_lexer": "ipython3",
   "version": "3.10.9"
  }
 },
 "nbformat": 4,
 "nbformat_minor": 2
}
